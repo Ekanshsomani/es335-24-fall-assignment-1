{
 "cells": [
  {
   "cell_type": "markdown",
   "metadata": {},
   "source": [
    "# Notebook to demonstrate Zero shot and Few shot Learning"
   ]
  },
  {
   "cell_type": "code",
   "execution_count": null,
   "metadata": {},
   "outputs": [],
   "source": [
    "import pandas as pd \n",
    "import numpy as np\n",
    "from langchain_groq.chat_models import ChatGroq\n",
    "\n",
    "\n",
    "# Create list for easy access of activities\n",
    "ACTIVITIES = {1: 'WALKING',2: 'WALKING_UPSTAIRS',3: 'WALKING_DOWNSTAIRS',4: 'SITTING',5: 'STANDING',6: 'LAYING',}"
   ]
  },
  {
   "cell_type": "code",
   "execution_count": null,
   "metadata": {},
   "outputs": [],
   "source": [
    "# Groq API and Models \n",
    "Groq_Token = \"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\"  # Do not share this key with anyone\n",
    "\n",
    "groq_models = {\"llama3-70b\": \"llama3-70b-8192\", \"mixtral\": \"mixtral-8x7b-32768\", \"gemma-7b\": \"gemma-7b-it\",\"llama3.1-70b\":\"llama-3.1-70b-versatile\",\"llama3-8b\":\"llama3-8b-8192\",\"llama3.1-8b\":\"llama-3.1-8b-instant\",\"gemma-9b\":\"gemma2-9b-it\"}"
   ]
  },
  {
   "cell_type": "markdown",
   "metadata": {},
   "source": [
    "**NOTE : DO NOT SHARE THE API KEY WITH ANYONE. DO NOT COMMIT THE API KEY TO GITHUB.**\n",
    "\n",
    "Always do a sanity check before committing the code to github. If the key is found in the code, you will be penalized with a 0.5 marks deduction."
   ]
  },
  {
   "cell_type": "markdown",
   "metadata": {},
   "source": [
    "#DATA EXTRACTION"
   ]
  },
  {
   "cell_type": "code",
   "execution_count": 7,
   "metadata": {},
   "outputs": [
    {
     "name": "stdout",
     "output_type": "stream",
     "text": [
      "Shape of X_train_acc: (7352, 384)\n",
      "Shape of X_test_acc: (2947, 384)\n",
      "Shape of y_train_acc: (7352, 1)\n",
      "Shape of y_test_acc: (2947, 1)\n",
      "Shape of X_train_tsfel: (7352, 40)\n",
      "Shape of X_test_tsfel: (2947, 40)\n",
      "Accuracy: 0.6824\n",
      "Precision: 0.6861\n",
      "Recall: 0.6824\n"
     ]
    },
    {
     "data": {
      "image/png": "[encoded data removed]",
      "text/plain": [
       "<Figure size 640x480 with 2 Axes>"
      ]
     },
     "metadata": {},
     "output_type": "display_data"
    }
   ],
   "source": [
    "import numpy as np\n",
    "import pandas as pd\n",
    "import matplotlib.pyplot as plt\n",
    "import tsfel\n",
    "from sklearn.metrics import accuracy_score, precision_score, recall_score, confusion_matrix, ConfusionMatrixDisplay\n",
    "from sklearn.tree import DecisionTreeClassifier\n",
    "import warnings\n",
    "\n",
    "# Suppressing FutureWarnings and UserWarnings\n",
    "warnings.simplefilter(action='ignore', category=FutureWarning)\n",
    "warnings.simplefilter(action='ignore', category=UserWarning)\n",
    "\n",
    "# Load dataset paths\n",
    "train_data_path = \"UCI HAR Dataset/train/Inertial Signals/\"\n",
    "test_data_path = \"UCI HAR Dataset/test/Inertial Signals/\"\n",
    "\n",
    "# Load train and test accelerometer data\n",
    "train_acc_x = pd.read_csv(f\"{train_data_path}total_acc_x_train.txt\", delim_whitespace=True, header=None)\n",
    "train_acc_y = pd.read_csv(f\"{train_data_path}total_acc_y_train.txt\", delim_whitespace=True, header=None)\n",
    "train_acc_z = pd.read_csv(f\"{train_data_path}total_acc_z_train.txt\", delim_whitespace=True, header=None)\n",
    "\n",
    "test_acc_x = pd.read_csv(f\"{test_data_path}total_acc_x_test.txt\", delim_whitespace=True, header=None)\n",
    "test_acc_y = pd.read_csv(f\"{test_data_path}total_acc_y_test.txt\", delim_whitespace=True, header=None)\n",
    "test_acc_z = pd.read_csv(f\"{test_data_path}total_acc_z_test.txt\", delim_whitespace=True, header=None)\n",
    "\n",
    "# Concatenate accelerometer data\n",
    "X_train_acc = np.concatenate((train_acc_x, train_acc_y, train_acc_z), axis=1)\n",
    "X_test_acc = np.concatenate((test_acc_x, test_acc_y, test_acc_z), axis=1)\n",
    "\n",
    "print(f\"Shape of X_train_acc: {X_train_acc.shape}\")\n",
    "print(f\"Shape of X_test_acc: {X_test_acc.shape}\")\n",
    "\n",
    "# Load train and test labels\n",
    "y_train_acc = pd.read_csv('UCI HAR Dataset/train/y_train.txt', sep='\\s+', header=None, names=['Activity'])\n",
    "y_test_acc = pd.read_csv('UCI HAR Dataset/test/y_test.txt', sep='\\s+', header=None, names=['Activity'])\n",
    "\n",
    "print(f\"Shape of y_train_acc: {y_train_acc.shape}\")\n",
    "print(f\"Shape of y_test_acc: {y_test_acc.shape}\")\n",
    "\n",
    "# Featurize the data using TSFEL\n",
    "def obtain_features(X, max_readings=500):\n",
    "    \"\"\"Extract features from time series data using TSFEL.\"\"\"\n",
    "    cfg = tsfel.get_features_by_domain(\"statistical\")  # Specify the domains you need\n",
    "    tsfel_features = []\n",
    "\n",
    "    for sample in X:\n",
    "        # Optionally slice the data to the first `max_readings`\n",
    "        sample = sample[:max_readings]\n",
    "        \n",
    "        # Extract features for each sample with the progress bar disabled\n",
    "        sample_features = tsfel.time_series_features_extractor(cfg, sample, verbose=0)\n",
    "        tsfel_features.append(sample_features.values.flatten())\n",
    "\n",
    "    return pd.DataFrame(np.array(tsfel_features))\n",
    "\n",
    "# Extract features from training and testing data\n",
    "X_train_tsfel = obtain_features(X_train_acc)\n",
    "X_test_tsfel = obtain_features(X_test_acc)\n",
    "\n",
    "print(f\"Shape of X_train_tsfel: {X_train_tsfel.shape}\")\n",
    "print(f\"Shape of X_test_tsfel: {X_test_tsfel.shape}\")\n",
    "\n",
    "# Train a Decision Tree classifier\n",
    "clf = DecisionTreeClassifier()\n",
    "clf.fit(X_train_tsfel, y_train_acc)\n",
    "\n",
    "# Predict and evaluate\n",
    "y_pred = clf.predict(X_test_tsfel)\n",
    "\n",
    "# Evaluate the classifier\n",
    "accuracy = accuracy_score(y_test_acc, y_pred)\n",
    "precision = precision_score(y_test_acc, y_pred, average='weighted')\n",
    "recall = recall_score(y_test_acc, y_pred, average='weighted')\n",
    "conf_matrix = confusion_matrix(y_test_acc, y_pred)\n",
    "\n",
    "# Display the results\n",
    "print(f\"Accuracy: {accuracy:.4f}\")\n",
    "print(f\"Precision: {precision:.4f}\")\n",
    "print(f\"Recall: {recall:.4f}\")\n",
    "ConfusionMatrixDisplay(confusion_matrix=conf_matrix).plot()\n",
    "plt.show()\n"
   ]
  },
  {
   "cell_type": "markdown",
   "metadata": {},
   "source": [
    "# Zero Shot "
   ]
  },
  {
   "cell_type": "code",
   "execution_count": null,
   "metadata": {},
   "outputs": [
    {
     "name": "stdout",
     "output_type": "stream",
     "text": [
      "Sentiment: Mixed (Neutral with a slight positive bias)\n",
      "\n",
      "Reasoning: The sentence expresses a mixed sentiment, with both positive and negative comments. The phrase \"The product quality is amazing\" is clearly positive, indicating a high level of satisfaction with the product. However, the phrase \"the delivery was delayed\" is negative, indicating a problem with the delivery process. The sentence also mentions \"I am happy with the customer service\", which is another positive comment. Overall, the positive comments outweigh the negative one, but the mixed sentiment prevents me from classifying it as purely positive or negative.\n"
     ]
    }
   ],
   "source": [
    "# Statement \n",
    "sentence = \"The product quality is amazing but the delivery was delayed. However I am happy with the customer service.\"\n",
    "\n",
    "# System Prompts \n",
    "query = f\"\"\"\n",
    "* You are a sentiment analysis model. \n",
    "* Your task is to analyze the sentiment expressed in the given text and classify it as 'positive', 'negative', or 'neutral'. \n",
    "* Provide the sentiment label and, if necessary, a brief explanation of your reasoning.\n",
    "\n",
    "Sentence: {sentence}\n",
    "\"\"\" \n",
    "\n",
    "# To use Groq LLMs \n",
    "model_name = \"llama3-8b\" # We can choose any model from the groq_models dictionary\n",
    "llm = ChatGroq(model=groq_models[model_name], api_key=Groq_Token, temperature=0)\n",
    "answer = llm.invoke(query)\n",
    "\n",
    "print(answer.content)"
   ]
  },
  {
   "cell_type": "code",
   "execution_count": null,
   "metadata": {},
   "outputs": [],
   "source": [
    "from transformers import pipeline\n",
    "\n",
    "# Initialize a pipeline for zero-shot classification\n",
    "zero_shot_classifier = pipeline(\"zero-shot-classification\", model=\"facebook/bart-large-mnli\")\n",
    "\n",
    "# Define possible activities\n",
    "candidate_labels = list(set(train_labels))\n",
    "\n",
    "# Function to predict using Zero-Shot Learning\n",
    "def zero_shot_predict(data, candidate_labels):\n",
    "    predictions = []\n",
    "    for sample in data:\n",
    "        # Featurize sample data (this step will depend on how your data is structured)\n",
    "        sample_text = \" \".join(map(str, sample.flatten()))\n",
    "        result = zero_shot_classifier(sample_text, candidate_labels)\n",
    "        predictions.append(result['labels'][0])\n",
    "    return predictions\n",
    "\n",
    "# Predict on test data\n",
    "zero_shot_predictions = zero_shot_predict(test_data, candidate_labels)\n"
   ]
  },
  {
   "cell_type": "markdown",
   "metadata": {},
   "source": [
    "# Few Shot"
   ]
  },
  {
   "cell_type": "code",
   "execution_count": null,
   "metadata": {},
   "outputs": [
    {
     "name": "stdout",
     "output_type": "stream",
     "text": [
      "Based on the given sentence, I would classify the sentiment as:\n",
      "\n",
      "Sentiment: Positive\n",
      "\n",
      "Reasoning: Although the sentence mentions a delay in delivery, which could be considered a negative aspect, the overall tone is positive due to the use of the word \"amazing\" to describe the product quality and the fact that the customer is \"happy\" with the customer service. The negative aspect is not strong enough to outweigh the positive comments, leading me to classify the sentiment as positive.\n"
     ]
    }
   ],
   "source": [
    "# Statement \n",
    "sentence = \"The product quality is amazing but the delivery was delayed. However I am happy with the customer service.\"\n",
    "\n",
    "# System Prompts \n",
    "query = f\"\"\"\n",
    "* You are a sentiment analysis model. \n",
    "* Your task is to analyze the sentiment expressed in the given text and classify it as 'positive', 'negative', or 'neutral'. \n",
    "* Provide the sentiment label and, if necessary, a brief explanation of your reasoning.\n",
    "\n",
    "Here are few examples:\n",
    "1. Sentence: 'The customer service was excellent, and I received my order quickly.'\n",
    "Sentiment: Positive\n",
    "\n",
    "2. Sentence: 'The food was bland and the service was slow.'\n",
    "Sentiment: Negative\n",
    "\n",
    "3. Sentence: 'The product is okay, but it's not worth the price.'\n",
    "Sentiment: Neutral\n",
    "\n",
    "Sentence: {sentence}\n",
    "\"\"\" \n",
    "\n",
    "# To use Groq LLMs \n",
    "model_name = \"llama3-8b\" # We can choose any model from the groq_models dictionary\n",
    "llm = ChatGroq(model=groq_models[model_name], api_key=Groq_Token, temperature=0)\n",
    "answer = llm.invoke(query)\n",
    "\n",
    "print(answer.content)"
   ]
  },
  {
   "cell_type": "code",
   "execution_count": null,
   "metadata": {},
   "outputs": [],
   "source": []
  }
 ],
 "metadata": {
  "kernelspec": {
   "display_name": "Python 3",
   "language": "python",
   "name": "python3"
  },
  "language_info": {
   "codemirror_mode": {
    "name": "ipython",
    "version": 3
   },
   "file_extension": ".py",
   "mimetype": "text/x-python",
   "name": "python",
   "nbconvert_exporter": "python",
   "pygments_lexer": "ipython3",
   "version": "3.11.6"
  }
 },
 "nbformat": 4,
 "nbformat_minor": 2
}
